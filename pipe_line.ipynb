{
 "cells": [
  {
   "cell_type": "code",
   "execution_count": 16,
   "id": "d2a0a7d7",
   "metadata": {},
   "outputs": [
    {
     "name": "stdout",
     "output_type": "stream",
     "text": [
      "[12. 14. 16.]\n"
     ]
    }
   ],
   "source": [
    "from sklearn.pipeline import Pipeline\n",
    "from sklearn.preprocessing import StandardScaler\n",
    "from sklearn.linear_model import LinearRegression\n",
    "\n",
    "# Create a pipeline with two steps: feature scaling and linear regression\n",
    "regression_pipeline = Pipeline([\n",
    "    ('scaler', StandardScaler()),  # Scale the features\n",
    "    ('regressor', LinearRegression())  # Train a linear regression model\n",
    "])\n",
    "\n",
    "# Train the pipeline on a training dataset\n",
    "train_features = [[1], [2], [3], [4], [5]]  # Example input features\n",
    "train_labels = [2, 4, 6, 8, 10]  # Example target labels\n",
    "regression_pipeline.fit(train_features, train_labels)\n",
    "\n",
    "# Use the trained pipeline to make predictions on new data\n",
    "test_features = [[6], [7], [8]]  # New input features\n",
    "predicted_labels = regression_pipeline.predict(test_features)\n",
    "print(predicted_labels)  # Output: [12., 14., 16.]"
   ]
  },
  {
   "cell_type": "code",
   "execution_count": 25,
   "id": "acb1c41f",
   "metadata": {},
   "outputs": [
    {
     "name": "stdout",
     "output_type": "stream",
     "text": [
      "['positive' 'negative']\n"
     ]
    }
   ],
   "source": [
    "from sklearn.pipeline import Pipeline\n",
    "from sklearn.feature_extraction.text import TfidfVectorizer\n",
    "from sklearn.svm import SVC\n",
    "\n",
    "# Create a pipeline with two steps: text preprocessing and classification\n",
    "text_clf = Pipeline([\n",
    "    ('tfidf', TfidfVectorizer()),  # Convert text to a matrix of TF-IDF features\n",
    "    ('clf', SVC())  # Train a support vector classifier\n",
    "])\n",
    "\n",
    "# Train the pipeline on a training dataset\n",
    "x_train = ['good', 'bad']\n",
    "x_test = ['positive', 'negative']\n",
    "text_clf.fit(x_train, x_test)\n",
    "\n",
    "# Use the trained pipeline to make predictions on new data\n",
    "y_train = ['excellent',' bad']\n",
    "y_pred = text_clf.predict(y_train)\n",
    "print(y_pred)  # Output: ['positive', 'negative']\n"
   ]
  },
  {
   "cell_type": "code",
   "execution_count": null,
   "id": "0efb206b",
   "metadata": {},
   "outputs": [],
   "source": []
  }
 ],
 "metadata": {
  "kernelspec": {
   "display_name": "Python 3 (ipykernel)",
   "language": "python",
   "name": "python3"
  },
  "language_info": {
   "codemirror_mode": {
    "name": "ipython",
    "version": 3
   },
   "file_extension": ".py",
   "mimetype": "text/x-python",
   "name": "python",
   "nbconvert_exporter": "python",
   "pygments_lexer": "ipython3",
   "version": "3.11.4"
  }
 },
 "nbformat": 4,
 "nbformat_minor": 5
}
